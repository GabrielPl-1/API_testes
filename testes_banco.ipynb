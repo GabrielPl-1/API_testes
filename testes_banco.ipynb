{
 "cells": [
  {
   "cell_type": "code",
   "execution_count": 25,
   "metadata": {},
   "outputs": [],
   "source": [
    "import mysql.connector\n",
    "from datetime import datetime\n",
    "import json"
   ]
  },
  {
   "cell_type": "code",
   "execution_count": 26,
   "metadata": {},
   "outputs": [],
   "source": [
    "conexao = mysql.connector.connect(\n",
    "    host = 'localhost',\n",
    "    user = 'gapenna',\n",
    "    password = '12345'\n",
    ")"
   ]
  },
  {
   "cell_type": "code",
   "execution_count": 27,
   "metadata": {},
   "outputs": [
    {
     "name": "stdout",
     "output_type": "stream",
     "text": [
      "('biblioteca',)\n",
      "('information_schema',)\n",
      "('mysql',)\n",
      "('performance_schema',)\n",
      "('sys',)\n"
     ]
    }
   ],
   "source": [
    "cursor = conexao.cursor()\n",
    "\n",
    "cursor.execute('CREATE DATABASE IF not exists biblioteca')\n",
    "cursor.execute('show databases;')\n",
    "for db in cursor:\n",
    "    print(db)"
   ]
  },
  {
   "cell_type": "code",
   "execution_count": 28,
   "metadata": {},
   "outputs": [],
   "source": [
    "cursor.execute(\"\"\"\n",
    "CREATE TABLE IF NOT EXISTS biblioteca.tb_livros(\n",
    "    id INT AUTO_INCREMENT PRIMARY KEY,\n",
    "    nome_livro varchar(50),\n",
    "    categoria_livro varchar(20),\n",
    "    data_compra date, \n",
    "    nome_cliente varchar(50),\n",
    "    cpf_cliente int,\n",
    "    status_pedido varchar(15)\n",
    ")\n",
    "\"\"\")"
   ]
  },
  {
   "cell_type": "code",
   "execution_count": 29,
   "metadata": {},
   "outputs": [],
   "source": [
    "sql = \"insert into biblioteca.tb_livros(nome_livro,categoria_livro,data_compra,nome_cliente,cpf_cliente,status_pedido) values (%s,%s,%s,%s,%s,%s)\"\n",
    "data = datetime.now().strftime('%Y-%m-%d')\n",
    "cursor.execute(sql,['diario de um banana','infantil',data,'Gabriel Penna',51224,'Finalizado'])\n"
   ]
  },
  {
   "cell_type": "code",
   "execution_count": 32,
   "metadata": {},
   "outputs": [],
   "source": [
    "cursor.execute(sql,['diario de um banana2','infantil',data,'Gabriel Penna de Lima',512234,'Finalizado'])\n",
    "conexao.commit()"
   ]
  },
  {
   "cell_type": "code",
   "execution_count": 33,
   "metadata": {},
   "outputs": [
    {
     "name": "stdout",
     "output_type": "stream",
     "text": [
      "[\n",
      "    [\n",
      "        3,\n",
      "        \"diario de um banana\",\n",
      "        \"infantil\",\n",
      "        \"2024-12-03\",\n",
      "        \"Gabriel Penna\",\n",
      "        51224,\n",
      "        \"Finalizado\"\n",
      "    ],\n",
      "    [\n",
      "        4,\n",
      "        \"diario de um banana2\",\n",
      "        \"infantil\",\n",
      "        \"2024-12-03\",\n",
      "        \"Gabriel Penna de Lima\",\n",
      "        512234,\n",
      "        \"Finalizado\"\n",
      "    ],\n",
      "    [\n",
      "        5,\n",
      "        \"diario de um banana2\",\n",
      "        \"infantil\",\n",
      "        \"2024-12-03\",\n",
      "        \"Gabriel Penna de Lima\",\n",
      "        512234,\n",
      "        \"Finalizado\"\n",
      "    ]\n",
      "]\n"
     ]
    }
   ],
   "source": [
    "cursor.execute(\"SELECT * FROM biblioteca.tb_livros\")\n",
    "resultado = cursor.fetchall()\n",
    "resultado_json = json.dumps(resultado,indent=4,default=str)\n",
    "print(resultado_json)"
   ]
  }
 ],
 "metadata": {
  "kernelspec": {
   "display_name": "venv_desafio",
   "language": "python",
   "name": "python3"
  },
  "language_info": {
   "codemirror_mode": {
    "name": "ipython",
    "version": 3
   },
   "file_extension": ".py",
   "mimetype": "text/x-python",
   "name": "python",
   "nbconvert_exporter": "python",
   "pygments_lexer": "ipython3",
   "version": "3.12.3"
  }
 },
 "nbformat": 4,
 "nbformat_minor": 2
}
